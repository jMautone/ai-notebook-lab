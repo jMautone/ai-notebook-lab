{
  "cells": [
    {
      "cell_type": "markdown",
      "metadata": {
        "id": "rag-lab-title"
      },
      "source": [
        "# Laboratorio 3: Implementación de pipeline RAG avanzado\n",
        "\n",
        "En este laboratorio, implementaremos un pipeline RAG (Retrieval-Augmented Generation) completo utilizando LangChain y Pinecone. Exploraremos técnicas avanzadas de preprocesamiento, chunking, retrievers y optimización de contextos.\n",
        "\n",
        "**Objetivos de aprendizaje:**\n",
        "- Construir un pipeline RAG básico con LangChain\n",
        "- Implementar técnicas de preprocesamiento de texto\n",
        "- Explorar diferentes estrategias de chunking\n",
        "- Utilizar retrievers avanzados y filtros de metadata\n",
        "- Aplicar reordenamiento de contextos para evitar \"Lost in the Middle\"\n",
        "\n"
      ]
    },
    {
      "cell_type": "markdown",
      "metadata": {
        "id": "setup-section"
      },
      "source": [
        "## Parte 1: Setup y pipeline RAG básico\n",
        "\n",
        "Comenzaremos configurando el entorno y creando un pipeline RAG básico que servirá como base para las mejoras posteriores."
      ]
    },
    {
      "cell_type": "code",
      "execution_count": null,
      "metadata": {
        "id": "install-deps"
      },
      "outputs": [],
      "source": [
        "# Instalar dependencias\n",
        "%pip install langchain langchain-community langchain-pinecone sentence-transformers spacy langchain-huggingface pypdf\n",
        "\n",
        "# Descargar modelo de español para preprocesamiento\n",
        "!python -m spacy download es_core_news_sm"
      ]
    },
    {
      "cell_type": "code",
      "execution_count": null,
      "metadata": {
        "id": "imports"
      },
      "outputs": [],
      "source": [
        "from langchain.text_splitter import RecursiveCharacterTextSplitter\n",
        "from langchain.embeddings import HuggingFaceEmbeddings\n",
        "from langchain_pinecone import PineconeVectorStore\n",
        "from langchain_huggingface import ChatHuggingFace\n",
        "from langchain.schema import Document\n",
        "from langchain.retrievers import BM25Retriever, EnsembleRetriever\n",
        "from langchain_community.document_transformers import LongContextReorder\n",
        "import spacy\n",
        "import re\n",
        "from sentence_transformers import SentenceTransformer\n",
        "import numpy as np\n",
        "from google.colab import userdata"
      ]
    },
    {
      "cell_type": "markdown",
      "source": [
        "Utilice la clase PyPDFLoader del módulo langchain_community.document_loaders para cargar un archivo PDF.\n",
        "\n",
        "Guarde el contenido del documento en una variable llamada docs.\n",
        "\n",
        "Muestre por consola:\n",
        "- La cantidad de documentos cargados desde el PDF.\n",
        "- Los primeros 200 caracteres del contenido de la primera página."
      ],
      "metadata": {
        "id": "LDiEA5ZkhcgR"
      }
    },
    {
      "cell_type": "code",
      "source": [
        "from google.colab import files\n",
        "from langchain_community.document_loaders import PyPDFLoader\n",
        "\n",
        "# Subir el archivo PDF desde tu computadora\n",
        "uploaded = files.upload()\n",
        "\n",
        "# Obtener el nombre del archivo subido\n",
        "pdf_path = list(uploaded.keys())[0]\n",
        "print(f\"Archivo subido: {pdf_path}\")\n",
        "\n",
        "# Cargar el PDF con PyPDFLoader\n",
        "loader = PyPDFLoader(pdf_path)\n",
        "docs = loader.load()\n",
        "\n",
        "# Mostrar la cantidad de documentos cargados\n",
        "print(f\"Cantidad de documentos cargados: {len(docs)}\")\n",
        "\n",
        "# Mostrar los primeros 200 caracteres del contenido de la primera página\n",
        "if docs:\n",
        "    print(\"\\nPrimeros 200 caracteres de la primera página:\\n\")\n",
        "    print(docs[0].page_content[:200])\n",
        "else:\n",
        "    print(\"No se cargaron documentos.\")\n"
      ],
      "metadata": {
        "id": "EvUVPC2wULJ2"
      },
      "execution_count": null,
      "outputs": []
    },
    {
      "cell_type": "markdown",
      "source": [
        "Cree un modelo de lenguaje (LLM) utilizando HuggingFaceEndpoint, con el identificador de modelo \"Qwen/Qwen3-4B-Instruct-2507\".\n",
        "Parámetros a utilizar:\n",
        "- task=\"text-generation\"\n",
        "- max_new_tokens=512\n",
        "- do_sample=False\n",
        "- repetition_penalty=1.03\n",
        "- provider=\"auto\"\n",
        "\n",
        "Inicialice un objeto ChatHuggingFace a partir del LLM creado.\n",
        "\n",
        "Aplique una división del contenido previamente cargado en docs mediante RecursiveCharacterTextSplitter, con:\n",
        "- chunk_size=500\n",
        "- chunk_overlap=50\n",
        "\n",
        "Finalmente, muestre por pantalla:\n",
        "- La cantidad de documentos originales.\n",
        "- La cantidad de chunks generados.\n",
        "- El tamaño promedio de los chunks (en caracteres)."
      ],
      "metadata": {
        "id": "naBDD2VVjg6l"
      }
    },
    {
      "cell_type": "code",
      "execution_count": null,
      "metadata": {
        "id": "basic-rag"
      },
      "outputs": [],
      "source": [
        "from google.colab import userdata\n",
        "from langchain_huggingface import HuggingFaceEndpoint, ChatHuggingFace\n",
        "from langchain.text_splitter import RecursiveCharacterTextSplitter\n",
        "\n",
        "# 1) Crear el LLM con HuggingFaceEndpoint\n",
        "hf_token = userdata.get('HUGGING_API_KEY')\n",
        "\n",
        "llm = HuggingFaceEndpoint(\n",
        "    repo_id=\"Qwen/Qwen3-4B-Instruct-2507\",\n",
        "    task=\"text-generation\",\n",
        "    max_new_tokens=512,\n",
        "    do_sample=False,\n",
        "    repetition_penalty=1.03,\n",
        "    provider=\"auto\",\n",
        "    huggingfacehub_api_token=hf_token,\n",
        ")\n",
        "\n",
        "# 2) Inicializar ChatHuggingFace a partir del LLM\n",
        "chat = ChatHuggingFace(llm=llm)\n",
        "\n",
        "# 3) Chunking con RecursiveCharacterTextSplitter\n",
        "text_splitter = RecursiveCharacterTextSplitter(\n",
        "    chunk_size=500,\n",
        "    chunk_overlap=50\n",
        ")\n",
        "chunks = text_splitter.split_documents(docs)\n",
        "\n",
        "# 4) Métricas pedidas\n",
        "num_docs = len(docs)\n",
        "num_chunks = len(chunks)\n",
        "avg_chunk_size = (sum(len(c.page_content) for c in chunks) / num_chunks) if num_chunks else 0\n",
        "\n",
        "print(f\"Cantidad de documentos originales: {num_docs}\")\n",
        "print(f\"Cantidad de chunks generados: {num_chunks}\")\n",
        "print(f\"Tamaño promedio de los chunks (caracteres): {avg_chunk_size:.2f}\")\n"
      ]
    },
    {
      "cell_type": "markdown",
      "source": [
        "Cree un índice en Pinecone con las siguientes características:\n",
        "- Dimensión: 384\n",
        "- Métrica: \"cosine\"\n",
        "- Especificación del servidor: ServerlessSpec(cloud=\"aws\", region=\"us-east-1\")\n",
        "\n",
        "Configure un modelo de embeddings con HuggingFaceEmbeddings, utilizando \"sentence-transformers/all-MiniLM-L6-v2\".\n",
        "\n",
        "Cree un vector store de tipo PineconeVectorStore a partir de los chunks previamente generados, usando los embeddings definidos y el índice creado."
      ],
      "metadata": {
        "id": "4w_45oKMl0LW"
      }
    },
    {
      "cell_type": "code",
      "execution_count": null,
      "metadata": {
        "id": "create-vectorstore"
      },
      "outputs": [],
      "source": [
        "from pinecone import Pinecone\n",
        "import os\n",
        "from pinecone import ServerlessSpec\n",
        "from google.colab import userdata\n",
        "from langchain.embeddings import HuggingFaceEmbeddings\n",
        "from langchain_pinecone import PineconeVectorStore\n",
        "\n",
        "# === API Key desde secreto de Colab ===\n",
        "PINECONE_API_KEY = userdata.get('PINECONE_API_KEY')\n",
        "pc = Pinecone(api_key=PINECONE_API_KEY)\n",
        "os.environ[\"PINECONE_API_KEY\"] = PINECONE_API_KEY  # para LangChain/PineconeVectorStore\n",
        "\n",
        "# === 1) Crear índice serverless en Pinecone ===\n",
        "index_name = \"rag-lab-index\"\n",
        "\n",
        "existing = [it[\"name\"] for it in pc.list_indexes().indexes]\n",
        "if index_name not in existing:\n",
        "    pc.create_index(\n",
        "        name=index_name,\n",
        "        dimension=384,\n",
        "        metric=\"cosine\",\n",
        "        spec=ServerlessSpec(cloud=\"aws\", region=\"us-east-1\"),\n",
        "    )\n",
        "\n",
        "# Opcional: obtener el handle del índice\n",
        "index = pc.Index(index_name)\n",
        "\n",
        "# === 2) Embeddings de HuggingFace ===\n",
        "embeddings = HuggingFaceEmbeddings(model_name=\"sentence-transformers/all-MiniLM-L6-v2\")\n",
        "\n",
        "# === 3) Crear el Vector Store en Pinecone a partir de los chunks ===\n",
        "# Puedes usar el handle del índice existente...\n",
        "# vectorstore = PineconeVectorStore(index=index, embedding=embeddings)\n",
        "# vectorstore.add_documents(chunks)\n",
        "\n",
        "# ...o crear directamente desde los documentos (usa el índice ya creado):\n",
        "vectorstore = PineconeVectorStore.from_documents(\n",
        "    documents=chunks,\n",
        "    embedding=embeddings,\n",
        "    index_name=index_name,\n",
        ")\n",
        "\n",
        "print(f\"Índice '{index_name}' listo y vector store creado con {len(chunks)} chunks.\")"
      ]
    },
    {
      "cell_type": "markdown",
      "source": [
        "Define e inicializa una variable con una pregunta sobre el documento cargado.\n",
        "\n",
        "Utiliza el método as_retriever(k=3) del objeto vectorstore para obtener los 3 documentos más relevantes respecto a la pregunta.\n",
        "\n",
        "Define e inicializa una variable con el contexto (resultados de la consulta a la BBDD vectorial)."
      ],
      "metadata": {
        "id": "Hrjd_K-_nyRm"
      }
    },
    {
      "cell_type": "code",
      "metadata": {
        "id": "64c356d1"
      },
      "source": [
        "# 1) Definir la pregunta\n",
        "question = \"Nombrame las vulnerabilidades críticas que se nombran en el proyecto.\"\n",
        "#question = \"Cuales son los problemas de LogicaORT?\"\n",
        "\n",
        "# 2) Obtener los 3 documentos más relevantes\n",
        "retriever = vectorstore.as_retriever(k=3)\n",
        "relevant_docs = retriever.get_relevant_documents(question)\n",
        "\n",
        "# 3) Construir el contexto uniendo el contenido de los documentos\n",
        "context = \"\\n\\n\".join([doc.page_content for doc in relevant_docs])\n",
        "\n",
        "# 4) Crear y mostrar el prompt formateado\n",
        "prompt_template = \"\"\"Using the following context, answer the question.\n",
        "\n",
        "Context:\n",
        "{context}\n",
        "\n",
        "Question:\n",
        "{question}\n",
        "\n",
        "Answer:\n",
        "\"\"\"\n",
        "\n",
        "formatted_prompt = prompt_template.format(context=context, question=question)\n",
        "print(formatted_prompt)"
      ],
      "execution_count": null,
      "outputs": []
    },
    {
      "cell_type": "markdown",
      "source": [
        "Invoca el modelo chat_model pasando como entrada el formatted_prompt (que incluye el contexto recuperado) y guarda la respuesta.\n",
        "\n",
        "Imprime en pantalla la pregunta original y la respuesta generada con contexto.\n",
        "\n",
        "Luego, invoca nuevamente el modelo con la misma pregunta, pero sin contexto, guardando el resultado en without_context.\n",
        "\n",
        "Imprime la respuesta sin contexto."
      ],
      "metadata": {
        "id": "AeIXvv07iITe"
      }
    },
    {
      "cell_type": "code",
      "source": [
        "# 1) Invocar el modelo con contexto\n",
        "with_context = chat.invoke(formatted_prompt)\n",
        "\n",
        "# 2) Mostrar pregunta y respuesta con contexto\n",
        "print(\"=== Pregunta ===\")\n",
        "print(question)\n",
        "print(\"\\n=== Respuesta con contexto ===\")\n",
        "print(with_context.content)\n",
        "\n",
        "# 3) Invocar el modelo con la misma pregunta pero sin contexto\n",
        "without_context = chat.invoke(question)\n",
        "\n",
        "# 4) Mostrar la respuesta sin contexto\n",
        "print(\"\\n=== Respuesta sin contexto ===\")\n",
        "print(without_context.content)\n"
      ],
      "metadata": {
        "id": "L3CmARhWN_5M"
      },
      "execution_count": null,
      "outputs": []
    },
    {
      "cell_type": "markdown",
      "metadata": {
        "id": "preprocessing-section"
      },
      "source": [
        "## Parte 2: Preprocesamiento de texto y chunking\n",
        "\n",
        "### Preprocesamiento de texto\n",
        "\n",
        "El preprocesamiento de texto es crucial para mejorar la calidad de los embeddings. Según las mejores prácticas, implementaremos:\n",
        "\n",
        "1. **Lematización**: Reducir palabras a su forma raíz\n",
        "2. **Expansión de abreviaturas**: Convertir abreviaciones a formas completas\n",
        "3. **Eliminación de stopwords**: Remover palabras sin significado semántico\n",
        "4. **Normalización**: Limpiar caracteres especiales y espacios\n",
        "\n",
        "Estas técnicas mejoran la capacidad de coincidencia semántica y reducen el ruido en los embeddings."
      ]
    },
    {
      "cell_type": "code",
      "execution_count": null,
      "metadata": {
        "id": "load-spacy"
      },
      "outputs": [],
      "source": [
        "nlp = spacy.load('en_core_web_sm')\n",
        "print(\"Modelo de inglés cargado exitosamente\")"
      ]
    },
    {
      "cell_type": "code",
      "execution_count": null,
      "metadata": {
        "id": "preprocessing-functions"
      },
      "outputs": [],
      "source": [
        "def prepare_text_for_embeddings(content_str):\n",
        "    \"\"\"Preprocesar texto para mejorar calidad de embeddings\"\"\"\n",
        "    if content_str is None or content_str.strip() == \"\":\n",
        "        return \"N/A\"\n",
        "\n",
        "    content_str = re.sub(r'\\W', ' ', content_str)\n",
        "\n",
        "    doc = nlp(content_str.lower())\n",
        "    lemmatized_tokens = [token.lemma_ for token in doc if not token.is_stop]\n",
        "\n",
        "    lemmatized_text = ' '.join(lemmatized_tokens)\n",
        "    return lemmatized_text if lemmatized_text.strip() else \"N/A\"\n",
        "\n",
        "def expand_abbreviations(text):\n",
        "    \"\"\"Expandir abreviaturas comunes\"\"\"\n",
        "    if text is None or text.strip() == \"\":\n",
        "        return \"N/A\"\n",
        "\n",
        "    abbreviations = {\n",
        "        \"LLM\": \"Large Language Model\",\n",
        "        \"RAG\": \"Retrieval-Augmented Generation\",\n",
        "        \"SLM\": \"Small Language Model\",\n",
        "        \"HNSW\": \"Hierarchical Navigable Small Worlds\",\n",
        "        \"MMR\": \"Maximal Marginal Relevance\",\n",
        "        \"BERT\": \"Bidirectional Encoder Representations from Transformers\",\n",
        "        \"GPT\": \"Generative Pre-trained Transformer\",\n",
        "        \"NLP\": \"Natural Language Processing\",\n",
        "        \"ML\": \"Machine Learning\",\n",
        "        \"AI\": \"Artificial Intelligence\"\n",
        "    }\n",
        "    for abbr, full in abbreviations.items():\n",
        "        text = re.sub(r'\\b{}\\b'.format(abbr), full, text)\n",
        "    return text\n",
        "\n",
        "def normalize_text(s, sep_token = \" \\n \"):\n",
        "    \"\"\"Normalizar texto para consistencia\"\"\"\n",
        "    if s is None or s.strip() == \"\":\n",
        "        return \"N/A\"\n",
        "\n",
        "    s = re.sub(r'\\s+',  ' ', s).strip()\n",
        "    s = re.sub(r\". ,\",\"\",s)\n",
        "    s = s.replace(\"..\",\".\")\n",
        "    s = s.replace(\". .\",\".\")\n",
        "    s = s.replace(\"\\n\", \"\")\n",
        "    s = s.strip()\n",
        "\n",
        "    if not s:\n",
        "        return \"N/A\"\n",
        "    return s\n",
        "\n",
        "print(\"Funciones de preprocesamiento definidas\")"
      ]
    },
    {
      "cell_type": "code",
      "source": [
        "processed_chunks = []\n",
        "for i, chunk in enumerate(chunks):\n",
        "    # Get the page_content from the chunk\n",
        "    original_text = chunk.page_content\n",
        "\n",
        "    # Apply ALL preprocessing steps\n",
        "    processed_text = prepare_text_for_embeddings(\n",
        "        normalize_text(\n",
        "            expand_abbreviations(original_text)\n",
        "        )\n",
        "    )\n",
        "\n",
        "    # Create a new Document with processed content\n",
        "    processed_chunk = Document(\n",
        "        page_content=processed_text,\n",
        "        metadata=chunk.metadata  # Keep original metadata\n",
        "    )\n",
        "    processed_chunks.append(processed_chunk)\n",
        "\n",
        "    if i < 2:\n",
        "        print(f\"\\nChunk {i+1}:\")\n",
        "        print(f\"Original: {original_text[:100]}...\")\n",
        "        print(f\"Procesado: {processed_text[:100]}...\")\n",
        "\n",
        "print(f\"\\nProcesamiento completado: {len(processed_chunks)} chunks procesados\")\n",
        "\n",
        "# Show the text improvement\n",
        "print(\"=== COMPARACIÓN DE CALIDAD DE TEXTO ===\")\n",
        "for i in range(min(3, len(chunks))):\n",
        "    original = chunks[i].page_content\n",
        "    processed = processed_chunks[i].page_content\n",
        "\n",
        "    print(f\"\\nChunk {i+1}:\")\n",
        "    print(f\"Original: {original[:150]}...\")\n",
        "    print(f\"Procesado: {processed[:150]}...\")\n",
        "\n",
        "    # Check for actual improvements\n",
        "    improvements = []\n",
        "    if len(processed) < len(original):\n",
        "        improvements.append(\"✓ Stopwords removidas\")\n",
        "    if processed != original:\n",
        "        improvements.append(\"✓ Lemmatización aplicada\")\n",
        "    if \"Large Language Model\" in processed and \"LLM\" in original:\n",
        "        improvements.append(\"✓ Abreviaciones expandidas\")\n",
        "\n"
      ],
      "metadata": {
        "id": "6zwAtv3FRpLf"
      },
      "execution_count": null,
      "outputs": []
    },
    {
      "cell_type": "markdown",
      "metadata": {
        "id": "chunking-strategies"
      },
      "source": [
        "### Estrategias de Chunking\n",
        "\n",
        "El chunking es uno de los pasos más críticos en RAG. Diferentes estrategias tienen diferentes ventajas:\n",
        "\n",
        "1. **Chunks pequeños (200-300 caracteres)**: Más precisos, mejor para preguntas específicas\n",
        "2. **Chunks medianos (500-800 caracteres)**: Balance entre precisión y contexto\n",
        "3. **Chunks grandes (1000+ caracteres)**: Más contexto, mejor para preguntas complejas y estructuras con tablas, pero mayores costos y se alcanza más rápido la ventana de contexto\n",
        "\n",
        "El overlap es crucial para evitar pérdida de información en los límites de los chunks. Un overlap del 10-20% del tamaño del chunk suele ser óptimo.\n",
        "\n",
        ">El overlap es el área de texto compartida entre dos fragmentos consecutivos. Es la porción de texto del final de un chunk ($N$) que se repite al comienzo del chunk siguiente ($N+1$).\n",
        "\n",
        "**Consideraciones importantes:**\n",
        "- Chunks muy pequeños pueden perder contexto importante\n",
        "- Chunks muy grandes pueden causar \"Lost in the Middle\":\n",
        "![image.png](data:image/png;base64,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)\n",
        "\n",
        "- El tamaño óptimo depende del tipo de consultas esperadas\n",
        "- Para tablas largas, considerar Parent Document Retriever\n",
        "- Para documentos cortos (como CVs), no chunking puede ser mejor"
      ]
    },
    {
      "cell_type": "markdown",
      "source": [
        "Escribe un programa que permita comparar distintas estrategias de chunking (para chunks pequeños, medianos y grandes) utilizando RecursiveCharacterTextSplitter de LangChain.\n",
        "\n",
        "Para cada estrategia del diccionario:\n",
        "- Aplica el método split_documents() sobre la colección processed_chunks.\n",
        "- Calcula y almacena en un diccionario llamado chunking_results:\n",
        "  - La cantidad de chunks generados (chunk_count).\n",
        "  - El tamaño promedio de los chunks (avg_chunk_size).\n",
        "  - La lista completa de chunks resultante.\n",
        "- Imprime en pantalla el nombre de la estrategia, el número total de chunks y su tamaño promedio en caracteres.\n",
        "\n",
        "Finalmente, muestra un ejemplo de salida correspondiente a la estrategia de chunks medianos, imprimiendo los primeros dos chunks y los 150 primeros caracteres de cada uno."
      ],
      "metadata": {
        "id": "w6B0ElMhlEx4"
      }
    },
    {
      "cell_type": "code",
      "execution_count": null,
      "metadata": {
        "id": "chunking-comparison"
      },
      "outputs": [],
      "source": [
        "from langchain.text_splitter import RecursiveCharacterTextSplitter\n",
        "\n",
        "# Definir distintas estrategias de chunking\n",
        "chunking_strategies = {\n",
        "    \"pequeños\": {\"chunk_size\": 300, \"chunk_overlap\": 30},\n",
        "    \"medianos\": {\"chunk_size\": 600, \"chunk_overlap\": 60},\n",
        "    \"grandes\":  {\"chunk_size\": 1000, \"chunk_overlap\": 100},\n",
        "}\n",
        "\n",
        "# Diccionario para almacenar resultados\n",
        "chunking_results = {}\n",
        "\n",
        "# Aplicar cada estrategia\n",
        "for name, params in chunking_strategies.items():\n",
        "    splitter = RecursiveCharacterTextSplitter(**params)\n",
        "    split_chunks = splitter.split_documents(docs)\n",
        "\n",
        "    # Calcular métricas\n",
        "    chunk_count = len(split_chunks)\n",
        "    avg_chunk_size = sum(len(c.page_content) for c in split_chunks) / chunk_count if chunk_count else 0\n",
        "\n",
        "    # Guardar resultados\n",
        "    chunking_results[name] = {\n",
        "        \"chunk_count\": chunk_count,\n",
        "        \"avg_chunk_size\": avg_chunk_size,\n",
        "        \"chunks\": split_chunks\n",
        "    }\n",
        "\n",
        "    # Mostrar resumen por estrategia\n",
        "    print(f\"Estrategia: {name}\")\n",
        "    print(f\" - Cantidad de chunks: {chunk_count}\")\n",
        "    print(f\" - Tamaño promedio de chunks: {avg_chunk_size:.2f} caracteres\\n\")\n",
        "\n",
        "# Mostrar ejemplo para la estrategia de chunks medianos\n",
        "print(\"=== Ejemplo de chunks (estrategia: medianos) ===\")\n",
        "med_chunks = chunking_results[\"medianos\"][\"chunks\"]\n",
        "\n",
        "for i, chunk in enumerate(med_chunks[:2]):\n",
        "    print(f\"\\n--- Chunk {i+1} ---\")\n",
        "    print(chunk.page_content[:150])\n"
      ]
    },
    {
      "cell_type": "markdown",
      "metadata": {
        "id": "metadata-section"
      },
      "source": [
        "## Parte 3: Metadata y retrievers avanzados\n",
        "\n",
        "### Agregado de metadata\n",
        "\n",
        "La metadata es fundamental para mejorar la precisión de las búsquedas. Permite:\n",
        "\n",
        "1. **Filtrado por tema**: Buscar solo en documentos relevantes\n",
        "2. **Filtrado por dificultad**: Adaptar respuestas al nivel del usuario\n",
        "3. **Trazabilidad**: Mostrar fuente original del documento\n",
        "4. **Navegación**: Enlazar al documento original\n",
        "\n",
        "**Ejemplos de metadata útiles:**\n",
        "- `source`: Archivo original\n",
        "- `page`: Número de página\n",
        "- `section`: Sección del documento\n",
        "- `topic`: Tema principal\n",
        "- `difficulty`: Nivel de complejidad\n",
        "- `timestamp`: Fecha de creación/modificación"
      ]
    },
    {
      "cell_type": "code",
      "execution_count": null,
      "metadata": {
        "id": "add-metadata"
      },
      "outputs": [],
      "source": [
        "documents_with_metadata = []\n",
        "for i, chunk in enumerate(processed_chunks):\n",
        "    # Determinar tema basado en contenido\n",
        "    content = chunk.page_content.lower()\n",
        "    if \"chunking\" in content or \"splitter\" in content:\n",
        "        topic = \"chunking\"\n",
        "    elif \"retriever\" in content or \"búsqueda\" in content or \"search\" in content:\n",
        "        topic = \"retrieval\"\n",
        "    elif \"vector\" in content or \"embedding\" in content:\n",
        "        topic = \"vector_db\"\n",
        "    elif \"contexto\" in content or \"reorder\" in content or \"attention\" in content:\n",
        "        topic = \"context\"\n",
        "    elif \"transformer\" in content or \"neural\" in content:\n",
        "        topic = \"neural_networks\"\n",
        "    elif \"machine\" in content or \"learning\" in content:\n",
        "        topic = \"machine_learning\"\n",
        "    else:\n",
        "        topic = \"general\"\n",
        "\n",
        "    # Flatten metadata - only keep simple values\n",
        "    doc_with_meta = Document(\n",
        "        page_content=chunk.page_content,\n",
        "        metadata={\n",
        "            \"source\": f\"transformer_paper_{i}\",\n",
        "            \"topic\": topic,\n",
        "            \"difficulty\": [\"beginner\", \"intermediate\", \"advanced\"][i % 3],\n",
        "            \"length\": len(chunk.page_content),\n",
        "            \"doc_id\": i,\n",
        "            \"page\": chunk.metadata.get(\"page\", i),\n",
        "            \"pdf_source\": chunk.metadata.get(\"source\", \"\"),\n",
        "            \"creator\": chunk.metadata.get(\"creator\", \"\"),\n",
        "            \"creation_date\": chunk.metadata.get(\"creationdate\", \"\")\n",
        "        }\n",
        "    )\n",
        "    documents_with_metadata.append(doc_with_meta)\n"
      ]
    },
    {
      "cell_type": "markdown",
      "source": [
        "Crea un nuevo índice en Pinecone y guarda los documentos con metadata generados anteriormente (documents_with_metadata). Recuerda utilizar PineconeVectorStore."
      ],
      "metadata": {
        "id": "F9L7PqVkmjzX"
      }
    },
    {
      "cell_type": "code",
      "source": [
        "from pinecone import ServerlessSpec\n",
        "from langchain_pinecone import PineconeVectorStore\n",
        "from langchain.embeddings import HuggingFaceEmbeddings\n",
        "from google.colab import userdata\n",
        "from pinecone import Pinecone\n",
        "import os\n",
        "\n",
        "# 1) Conexión a Pinecone usando la API Key guardada en secreto\n",
        "PINECONE_API_KEY = userdata.get('PINECONE_API_KEY')\n",
        "pc = Pinecone(api_key=PINECONE_API_KEY)\n",
        "os.environ[\"PINECONE_API_KEY\"] = PINECONE_API_KEY\n",
        "\n",
        "# 2) Crear un nuevo índice para documentos con metadata\n",
        "index_name_meta = \"rag-lab-index-metadata\"\n",
        "\n",
        "existing_indexes = [it[\"name\"] for it in pc.list_indexes().indexes]\n",
        "if index_name_meta not in existing_indexes:\n",
        "    pc.create_index(\n",
        "        name=index_name_meta,\n",
        "        dimension=384,\n",
        "        metric=\"cosine\",\n",
        "        spec=ServerlessSpec(cloud=\"aws\", region=\"us-east-1\"),\n",
        "    )\n",
        "\n",
        "# 3) Configurar modelo de embeddings\n",
        "embeddings = HuggingFaceEmbeddings(model_name=\"sentence-transformers/all-MiniLM-L6-v2\")\n",
        "\n",
        "# 4) Crear el nuevo vector store con metadata\n",
        "vectorstore_meta = PineconeVectorStore.from_documents(\n",
        "    documents=documents_with_metadata,\n",
        "    embedding=embeddings,\n",
        "    index_name=index_name_meta,\n",
        ")\n",
        "\n",
        "print(f\"Índice '{index_name_meta}' creado con {len(documents_with_metadata)} documentos con metadata.\")\n"
      ],
      "metadata": {
        "id": "-khiMZaeUHbG"
      },
      "execution_count": null,
      "outputs": []
    },
    {
      "cell_type": "markdown",
      "source": [
        "Realiza una búsqueda sin filtro (similarity_search) recuperando los 3 documentos más relevantes (k=3).\n",
        "- Imprime cada resultado mostrando su número, el valor del campo topic y el campo difficulty contenidos en los metadatos de cada documento.\n",
        "\n",
        "Realiza luego una búsqueda filtrada (similarity_search) aplicando un filtro que limite los resultados a documentos cuyo topic sea \"neural_networks\".\n",
        "- Muestra nuevamente los resultados con el mismo formato que la búsqueda anterior."
      ],
      "metadata": {
        "id": "Nma4hB-WnNL1"
      }
    },
    {
      "cell_type": "code",
      "source": [
        "# 1) Búsqueda sin filtro: recupera los 3 documentos más relevantes\n",
        "query = \"Nombrame las vulnerabilidades críticas documentadas en el reporte de pruebas de penetración.\"\n",
        "results = vectorstore_meta.similarity_search(query, k=3)\n",
        "\n",
        "print(\"=== Resultados sin filtro (k=3) ===\")\n",
        "if not results:\n",
        "    print(\"No se encontraron resultados.\")\n",
        "else:\n",
        "    for i, doc in enumerate(results, start=1):\n",
        "        topic = doc.metadata.get(\"topic\", \"N/A\")\n",
        "        difficulty = doc.metadata.get(\"difficulty\", \"N/A\")\n",
        "        print(f\"{i}) topic={topic} | difficulty={difficulty}\")\n",
        "\n",
        "# 2) Búsqueda filtrada: solo documentos con topic = 'neural_networks'\n",
        "filtered_results = vectorstore_meta.similarity_search(\n",
        "    query,\n",
        "    k=3,\n",
        "    filter={\"topic\": \"neural_networks\"}\n",
        ")\n",
        "\n",
        "print(\"\\n=== Resultados con filtro (topic='neural_networks', k=3) ===\")\n",
        "if not filtered_results:\n",
        "    print(\"No se encontraron resultados con ese filtro.\")\n",
        "else:\n",
        "    for i, doc in enumerate(filtered_results, start=1):\n",
        "        topic = doc.metadata.get(\"topic\", \"N/A\")\n",
        "        difficulty = doc.metadata.get(\"difficulty\", \"N/A\")\n",
        "        print(f\"{i}) topic={topic} | difficulty={difficulty}\")"
      ],
      "metadata": {
        "id": "8Hsuq_jnVP9w"
      },
      "execution_count": null,
      "outputs": []
    },
    {
      "cell_type": "markdown",
      "metadata": {
        "id": "reordering-section"
      },
      "source": [
        "## Parte 4: Reordenamiento de contextos y optimización\n",
        "\n",
        "### El problema \"Lost in the Middle\"\n",
        "\n",
        "Los modelos de lenguaje basados en transformers tienen una limitación conocida: prestan más atención al inicio y final del contexto, perdiendo información en el medio. Esto es especialmente problemático en RAG cuando se recuperan múltiples documentos.\n",
        "\n",
        "**Solución: Long-Context Reorder**\n",
        "\n",
        "Esta técnica reordena los documentos recuperados para optimizar la atención del modelo:\n",
        "1. **Documento más relevante**: Al inicio\n",
        "2. **Documentos menos relevantes**: Al final\n",
        "3. **Documentos de relevancia media**: En el medio\n",
        "\n",
        "Esto mejora significativamente la calidad de las respuestas, especialmente con contextos largos."
      ]
    },
    {
      "cell_type": "markdown",
      "source": [
        "En el siguiente bloque, completa el código para cumplir con la siguiente consigna.\n",
        "\n",
        "Muestra por pantalla:\n",
        "- La consulta realizada.\n",
        "- El orden original de los documentos (indicando su número, el valor de topic en sus metadatos y los primeros 60 caracteres de su contenido).\n",
        "\n",
        "Aplica el método transform_documents() del objeto reordering sobre los resultados obtenidos para reordenar los documentos.\n",
        "\n",
        "Imprime el nuevo orden de los documentos tras el reordenamiento, con el mismo formato que antes."
      ],
      "metadata": {
        "id": "vtTPuztZo-l-"
      }
    },
    {
      "cell_type": "code",
      "execution_count": null,
      "metadata": {
        "id": "implement-reordering"
      },
      "outputs": [],
      "source": [
        "from langchain_community.document_transformers import LongContextReorder\n",
        "\n",
        "# Alias por si tu variable se llama vectorstore_meta\n",
        "vectorstore_with_metadata = vectorstore_meta\n",
        "\n",
        "reordering = LongContextReorder()\n",
        "\n",
        "query = \"Nombrame las vulnerabilidades críticas documentadas en el reporte de pruebas de penetración.\"\n",
        "results = vectorstore_with_metadata.similarity_search(query, k=5)\n",
        "\n",
        "# Mostrar consulta\n",
        "print(\"=== Consulta ===\")\n",
        "print(query)\n",
        "\n",
        "# Mostrar orden original\n",
        "print(\"\\n=== Orden original de documentos ===\")\n",
        "if not results:\n",
        "    print(\"No se recuperaron documentos.\")\n",
        "else:\n",
        "    for i, doc in enumerate(results, start=1):\n",
        "        topic = doc.metadata.get(\"topic\", \"N/A\")\n",
        "        preview = (doc.page_content or \"\")[:60].replace(\"\\n\", \" \")\n",
        "        print(f\"{i}) topic={topic} | preview=\\\"{preview}\\\"\")\n",
        "\n",
        "# Reordenar documentos con LongContextReorder\n",
        "reordered = reordering.transform_documents(results)\n",
        "\n",
        "# Mostrar nuevo orden\n",
        "print(\"\\n=== Nuevo orden tras reordenamiento (Long-Context Reorder) ===\")\n",
        "if not reordered:\n",
        "    print(\"No hay documentos para reordenar.\")\n",
        "else:\n",
        "    for i, doc in enumerate(reordered, start=1):\n",
        "        topic = doc.metadata.get(\"topic\", \"N/A\")\n",
        "        preview = (doc.page_content or \"\")[:60].replace(\"\\n\", \" \")\n",
        "        print(f\"{i}) topic={topic} | preview=\\\"{preview}\\\"\")\n"
      ]
    },
    {
      "cell_type": "markdown",
      "metadata": {
        "id": "optimization-section"
      },
      "source": [
        "### Optimización de parámetros\n",
        "\n",
        "**Parámetro K (Número de documentos recuperados)**\n",
        "\n",
        "El parámetro K es crucial para el rendimiento:\n",
        "- **K bajo (1-3)**: Mayor precisión, menos contexto\n",
        "- **K medio (3-5)**: Balance entre precisión y cobertura\n",
        "- **K alto (5-10)**: Mayor cobertura, posible ruido\n",
        "\n",
        "**Técnicas de reranking**\n",
        "\n",
        "1. **MMR (Maximal Marginal Relevance)**: Diversifica resultados\n",
        "2. **Reranking basado en relevancia**: Prioriza documentos más relevantes\n",
        "3. **Threshold vs. Top-K**: Usar umbral de similitud o número fijo\n",
        "\n",
        "**Estrategias de optimización:**\n",
        "- Probar diferentes valores de K\n",
        "- Evaluar métricas de precisión y recall\n",
        "- Considerar el tipo de consultas esperadas\n",
        "- Balancear velocidad vs. calidad"
      ]
    },
    {
      "cell_type": "code",
      "execution_count": null,
      "metadata": {
        "id": "parameter-optimization"
      },
      "outputs": [],
      "source": [
        "# Test K values and MMR reranking\n",
        "test_query = \"What is attention mechanism?\"\n",
        "print(f\"Query: {test_query}\")\n",
        "print(\"=\"*50)\n",
        "\n",
        "# 1. Test K values (precision vs recall)\n",
        "print(\"1. K VALUES:\")\n",
        "k_values = [1, 3, 5]\n",
        "for k in k_values:\n",
        "    docs = vectorstore_with_metadata.similarity_search(test_query, k=k)\n",
        "    context = \"\\n\".join([doc.page_content for doc in docs])\n",
        "    prompt = f\"Context: {context}\\n\\nQuestion: {test_query}\\n\\nAnswer:\"\n",
        "    response = chat.invoke(prompt)\n",
        "    print(f\"  K={k}: {len(str(response))} chars\")\n",
        "\n",
        "print(\"\\n\" + \"=\"*50)\n",
        "\n",
        "# 2. Test MMR reranking (diversification)\n",
        "print(\"2. MMR RERANKING:\")\n",
        "mmr_results = vectorstore_with_metadata.similarity_search_with_relevance_scores(\n",
        "    test_query,\n",
        "    k=5,\n",
        "    fetch_k=10  # More candidates for MMR\n",
        ")\n",
        "print(f\"  MMR: {len(mmr_results)} docs with scores\")\n",
        "for i, (doc, score) in enumerate(mmr_results):\n",
        "    print(f\"    {i+1}. Score: {score:.3f} - {doc.metadata['topic']}\")\n",
        "\n",
        "print(\"\\n\" + \"=\"*50)\n",
        "print(\"SUMMARY:\")\n",
        "print(\"K=1: High precision, low recall\")\n",
        "print(\"K=5: Balanced precision/recall\")\n",
        "print(\"MMR: Diversifies results, reduces redundancy\")"
      ]
    },
    {
      "cell_type": "markdown",
      "metadata": {
        "id": "conclusions"
      },
      "source": [
        "## Conclusiones y mejores prácticas\n",
        "\n",
        "### Resumen de técnicas implementadas\n",
        "\n",
        "1. **Preprocesamiento de texto**: Lemmatización, expansión de abreviaturas y normalización mejoran la calidad de los embeddings\n",
        "\n",
        "2. **Estrategias de chunking**: El tamaño óptimo depende del caso de uso (balancear precisión vs. contexto)\n",
        "\n",
        "3. **Metadata y filtros**: Agregar metadata temática y de dificultad mejora la relevancia de las búsquedas\n",
        "\n",
        "4. **Retrievers avanzados**: Ensemble retrievers combinan búsqueda densa y semántica para mejor cobertura\n",
        "\n",
        "5. **Reordenamiento de contextos**: LongContextReorder evita el fenómeno \"Lost in the Middle\"\n",
        "\n",
        "6. **Optimización de parámetros**: Ajustar K y usar técnicas de reranking mejora la calidad de las respuestas\n",
        "\n",
        "### Recomendaciones por caso de uso\n",
        "\n",
        "**Para documentos técnicos largos:**\n",
        "- Chunks medianos (500-800 caracteres)\n",
        "- Metadata por sección y dificultad\n",
        "- Ensemble retriever con reordenamiento\n",
        "\n",
        "**Para preguntas específicas:**\n",
        "- Chunks pequeños (200-300 caracteres)\n",
        "- Filtros de metadata estrictos\n",
        "- K bajo (1-3) para mayor precisión\n",
        "\n",
        "**Para consultas complejas:**\n",
        "- Chunks grandes (1000+ caracteres)\n",
        "- Multi-query retriever\n",
        "- K alto (5-7) para mayor cobertura\n",
        "\n",
        "**Para documentos jerárquicos:**\n",
        "- Parent Document Retriever\n",
        "- Chunking por secciones\n",
        "- Metadata de ubicación\n",
        "\n",
        "### Recursos Adicionales\n",
        "\n",
        "- [LangChain Documentation](https://python.langchain.com/)\n",
        "- [Pinecone Documentation](https://docs.pinecone.io/)\n",
        "- [RAG Best Practices](https://docs.llamaindex.ai/en/stable/optimizing/rag_optimization.html)\n",
        "- [Advanced RAG Techniques](https://arxiv.org/abs/2312.10997)"
      ]
    }
  ],
  "metadata": {
    "accelerator": "GPU",
    "colab": {
      "gpuType": "T4",
      "provenance": []
    },
    "kernelspec": {
      "display_name": "Python 3",
      "name": "python3"
    },
    "language_info": {
      "name": "python"
    }
  },
  "nbformat": 4,
  "nbformat_minor": 0
}