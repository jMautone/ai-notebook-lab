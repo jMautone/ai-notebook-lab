{
  "nbformat": 4,
  "nbformat_minor": 0,
  "metadata": {
    "colab": {
      "provenance": [],
      "gpuType": "T4"
    },
    "kernelspec": {
      "name": "python3",
      "display_name": "Python 3"
    },
    "language_info": {
      "name": "python"
    },
    "accelerator": "GPU"
  },
  "cells": [
    {
      "cell_type": "markdown",
      "source": [
        "# Laboratorio 2: Bases de datos vectoriales\n",
        "\n",
        "En este ejercicio, exploraremos cómo aprovechar modelos de embedding para transformar datos textuales en representaciones vectoriales, almacenarlas en una base de datos vectorial y realizar búsquedas semánticas.\n",
        "Antes de comenzar el laboratorio, estaremos usando GPU para el computo de los embeddings locales, por lo tanto, deben de ir a la seccion inferior de COLAB y cambiar el runtime a una GPU T4:\n",
        "![image.png](data:image/png;base64,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)"
      ],
      "metadata": {
        "id": "kidGzNtdmsxl"
      }
    },
    {
      "cell_type": "markdown",
      "source": [
        "A lo largo de este laboratorio, realizarás las siguientes tareas:\n",
        "\n",
        "1.  **Extracción de información de un archivo CSV**: Cargarás datos desde un archivo CSV.\n",
        "2.  **Creación de embeddings**: Emplearás un modelo de embedding pre-entrenado para convertir la información en vectores (embeddings).\n",
        "3.  **Almacenamiento en una BBDD vectorial**: Almacenarás los embeddings generados en un índice.\n",
        "4.  **Búsquedas semánticas**: Realizarás búsquedas semánticas en el índice para encontrar información relevante."
      ],
      "metadata": {
        "id": "IgzeMj3cucHv"
      }
    },
    {
      "cell_type": "markdown",
      "source": [
        "# Pinecone"
      ],
      "metadata": {
        "id": "x-xGTv3OMv0L"
      }
    },
    {
      "cell_type": "markdown",
      "metadata": {
        "id": "1b20a82a"
      },
      "source": [
        "## Extracción de información de un archivo CSV\n",
        "\n",
        "Carga el archivo home_depot_data.csv (https://www.kaggle.com/datasets/thedevastator/the-home-depot-products-dataset) en un DataFrame de pandas."
      ]
    },
    {
      "cell_type": "code",
      "source": [
        "from google.colab import files\n",
        "uploaded = files.upload()"
      ],
      "metadata": {
        "id": "rG197c4KVBJB"
      },
      "execution_count": null,
      "outputs": []
    },
    {
      "cell_type": "code",
      "metadata": {
        "collapsed": true,
        "id": "ca6e882e"
      },
      "source": [
        "import pandas as pd\n",
        "\n",
        "df = pd.read_csv('home_depot_data.csv')\n",
        "display(df.head())"
      ],
      "execution_count": null,
      "outputs": []
    },
    {
      "cell_type": "markdown",
      "metadata": {
        "id": "f6a3a625"
      },
      "source": [
        "## Prepara los datos para la generación de embeddings\n",
        "\n",
        "Selecciona las columnas de texto relevantes del DataFrame que serán utilizadas para generar los embeddings. En caso necesario, combina varias columnas (por ejemplo, nombre del producto y descripción) en un solo campo de texto.\n"
      ]
    },
    {
      "cell_type": "code",
      "metadata": {
        "collapsed": true,
        "id": "39321df6"
      },
      "source": [
        "# Seleccionar columnas relevantes y combinarlas en un solo campo de texto\n",
        "df['text'] = df[['title', 'description', 'price', 'currency']].fillna('').apply(\n",
        "    lambda x: f\"{x['title']} | {x['description']} | Price: {x['price']} {x['currency']}\",\n",
        "    axis=1\n",
        ")\n",
        "\n",
        "# Mostrar las primeras filas del nuevo campo\n",
        "df[['title', 'description', 'price', 'currency', 'text']].head()"
      ],
      "execution_count": null,
      "outputs": []
    },
    {
      "cell_type": "markdown",
      "metadata": {
        "id": "c890d720"
      },
      "source": [
        "## Cargado de modelo de embedding"
      ]
    },
    {
      "cell_type": "markdown",
      "source": [
        "Cargar el modelo de embeddings all-MiniLM-L6-v2 utilizando la librería sentence-transformers."
      ],
      "metadata": {
        "id": "KxeaU_6OFYGD"
      }
    },
    {
      "cell_type": "code",
      "source": [
        "from sentence_transformers import SentenceTransformer\n",
        "\n",
        "model = SentenceTransformer('all-MiniLM-L6-v2')"
      ],
      "metadata": {
        "id": "O5JqXPeKFcgR"
      },
      "execution_count": null,
      "outputs": []
    },
    {
      "cell_type": "markdown",
      "source": [
        "Definir una función que, dado un texto, retorne su vector de embeddings en\n",
        "forma de lista."
      ],
      "metadata": {
        "id": "BelLOCGmFjBA"
      }
    },
    {
      "cell_type": "code",
      "source": [
        "def get_embedding(text):\n",
        "  \"\"\"\n",
        "  Generates an embedding vector for a given text using the loaded model.\n",
        "\n",
        "  Args:\n",
        "    text: The input text string.\n",
        "\n",
        "  Returns:\n",
        "    A list representing the embedding vector.\n",
        "  \"\"\"\n",
        "  embedding = model.encode(text).tolist()\n",
        "  return embedding\n",
        "\n",
        "# Example usage:\n",
        "example_text = \"This is an example sentence.\"\n",
        "embedding = get_embedding(example_text)\n",
        "print(embedding)"
      ],
      "metadata": {
        "id": "51ZLCMNdFluk"
      },
      "execution_count": null,
      "outputs": []
    },
    {
      "cell_type": "markdown",
      "source": [
        "## Creación del índice en Pinecone"
      ],
      "metadata": {
        "id": "rBXZfhj-HR7n"
      }
    },
    {
      "cell_type": "markdown",
      "metadata": {
        "id": "8aff5646"
      },
      "source": [
        "En esta sección deberás establecer una conexión a tu cuenta de Pinecone utilizando tu API KEY. Para esto tendrás que crearte una cuenta en Pinecone (https://www.pinecone.io/)."
      ]
    },
    {
      "cell_type": "markdown",
      "source": [
        "Inicializar Pinecone utilizando la clave de API guardada en userdata."
      ],
      "metadata": {
        "id": "K2ecdnkJFrkz"
      }
    },
    {
      "cell_type": "code",
      "source": [
        "# 1. Instalar la biblioteca de Pinecone\n",
        "!pip install -q pinecone"
      ],
      "metadata": {
        "id": "HyFICY0kFIXS"
      },
      "execution_count": null,
      "outputs": []
    },
    {
      "cell_type": "code",
      "source": [
        "import os\n",
        "from pinecone import Pinecone\n",
        "from google.colab import userdata\n",
        "\n",
        "# 2. Intentar obtener la clave de API desde los Secretos de Colab\n",
        "try:\n",
        "    PINECONE_API_KEY = userdata.get('PCONE_TOKEN')\n",
        "\n",
        "    if PINECONE_API_KEY is None:\n",
        "        raise ValueError(\"No se encontró la clave 'PCONE_TOKEN' en los Secretos de Colab.\\n\"\n",
        "                         \"Por favor, ve al panel 🔑 (Secretos) y añádela.\")\n",
        "\n",
        "    # 3. Inicializar el cliente de Pinecone\n",
        "    pc = Pinecone(api_key=PINECONE_API_KEY)\n",
        "\n",
        "    print(\"✅ ¡Conexión con Pinecone establecida exitosamente!\")\n",
        "\n",
        "except Exception as e:\n",
        "    print(f\"❌ Error al conectar o inicializar Pinecone: {e}\")"
      ],
      "metadata": {
        "id": "fC5nLaw5B0I5",
        "collapsed": true
      },
      "execution_count": null,
      "outputs": []
    },
    {
      "cell_type": "markdown",
      "source": [
        "Crear un índice en Pinecone con la dimensión\n",
        "correspondiente al modelo y con la métrica cosine."
      ],
      "metadata": {
        "id": "QI-14gRYF-aV"
      }
    },
    {
      "cell_type": "code",
      "source": [
        "# Importamos la clase ServerlessSpec, que es la requerida para el plan gratuito actual\n",
        "from pinecone import ServerlessSpec\n",
        "\n",
        "# --- 1. Definición de parámetros ---\n",
        "index_name = \"home-depot-embeddings\"\n",
        "dimension = 384\n",
        "metric = \"cosine\"\n",
        "\n",
        "# --- 2. Parámetros para el plan Serverless (Gratuito) ---\n",
        "cloud_provider = \"aws\"\n",
        "region_name = \"us-east-1\"\n",
        "\n",
        "try:\n",
        "    # --- 3. Comprobar si el índice ya existe ---\n",
        "    if index_name not in pc.list_indexes().names():\n",
        "\n",
        "        print(f\"Creando el índice Serverless '{index_name}' en {cloud_provider}:{region_name}...\")\n",
        "\n",
        "        # --- 4. Crear la especificación Serverless ---\n",
        "        serverless_spec = ServerlessSpec(\n",
        "            cloud=cloud_provider,    # 'aws'\n",
        "            region=region_name       # 'us-east-1'\n",
        "        )\n",
        "\n",
        "        # --- 5. Crear el índice, pasando la especificación al argumento 'spec' ---\n",
        "        pc.create_index(\n",
        "            name=index_name,\n",
        "            dimension=dimension,\n",
        "            metric=metric,\n",
        "            spec=serverless_spec     # <--- CLAVE: Pasamos el objeto ServerlessSpec\n",
        "        )\n",
        "        print(f\"✅ ¡Índice Serverless '{index_name}' creado con dimensión {dimension} y métrica '{metric}'!\")\n",
        "\n",
        "    else:\n",
        "        # --- 6. Si ya existe, solo informa ---\n",
        "        print(f\"El índice '{index_name}' ya existe. No se realizaron cambios.\")\n",
        "\n",
        "    # --- 7. Conectarse al índice y mostrar estadísticas ---\n",
        "    index = pc.Index(index_name)\n",
        "    print(\"\\nEstadísticas del índice (para confirmar conexión):\")\n",
        "    print(index.describe_index_stats())\n",
        "\n",
        "except Exception as e:\n",
        "    print(f\"❌ Ocurrió un error: {e}\")"
      ],
      "metadata": {
        "id": "Rt_6c0d-F_Ft",
        "collapsed": true
      },
      "execution_count": null,
      "outputs": []
    },
    {
      "cell_type": "markdown",
      "source": [
        "## Cargado del índice"
      ],
      "metadata": {
        "id": "nEA_xoSDHWg6"
      }
    },
    {
      "cell_type": "markdown",
      "source": [
        "Implementa el código necesario para recorrer los datos del DataFrame, generar los embeddings correspondientes y realizar la inserción de la información en el índice creado previamente. Se debe utilizar un esquema de procesamiento por lotes para optimizar la carga."
      ],
      "metadata": {
        "id": "e8zrW5a-B6si"
      }
    },
    {
      "cell_type": "code",
      "metadata": {
        "id": "otNpw6Bv7Wui"
      },
      "source": [
        "import pandas as pd\n",
        "from tqdm.auto import tqdm # Importamos tqdm para mostrar una barra de progreso\n",
        "\n",
        "# --- 1. Configuración de la Carga por Lotes ---\n",
        "BATCH_SIZE = 100\n",
        "index_name = \"home-depot-embeddings\" # Nombre del índice\n",
        "# Asumimos que 'index' ya está definido (ej: index = pc.Index(index_name))\n",
        "\n",
        "# --- 2. Preparación de los datos ---\n",
        "# 2.1 Generamos una columna de IDs única (basada en el índice del DataFrame)\n",
        "if 'id' not in df.columns:\n",
        "    df['id'] = df.index.astype(str)\n",
        "\n",
        "# 2.2 Extraemos las columnas necesarias\n",
        "texts = df['text'].tolist()\n",
        "ids = df['id'].tolist()\n",
        "\n",
        "print(f\"Total de registros a procesar: {len(df)}\")\n",
        "\n",
        "# --- 3. Proceso de Inserción por Lotes ---\n",
        "# Inicializamos la barra de progreso de tqdm\n",
        "for i in tqdm(range(0, len(df), BATCH_SIZE)):\n",
        "    # Definir el lote actual\n",
        "    i_end = min(i + BATCH_SIZE, len(df))\n",
        "    batch_df = df.iloc[i:i_end] # Usamos el sub-DataFrame para acceder a todas las columnas\n",
        "\n",
        "    batch_ids = batch_df['id'].tolist()\n",
        "    batch_texts = batch_df['text'].tolist()\n",
        "\n",
        "    # --- A. Generar Embeddings ---\n",
        "    # Generación eficiente de embeddings para todo el lote\n",
        "    embeddings = model.encode(batch_texts).tolist()\n",
        "\n",
        "    # --- B. Formatear para Pinecone (ID, Vector, Metadata) ---\n",
        "    vectors_to_upload = []\n",
        "\n",
        "    # Iteramos sobre las filas del lote\n",
        "    for idx, row in batch_df.iterrows():\n",
        "        # Capturamos la metadata relevante del DataFrame\n",
        "        metadata = {\n",
        "            \"title\": row['title'],\n",
        "            \"description\": row['description'],\n",
        "            \"price\": row['price'],\n",
        "            \"currency\": row['currency'],\n",
        "            \"combined_text\": row['text'] # El texto combinado es útil para depuración\n",
        "        }\n",
        "\n",
        "        # El formato es (id, vector_lista, metadata_diccionario)\n",
        "        vectors_to_upload.append((\n",
        "            row['id'],\n",
        "            embeddings[idx - i], # Usamos el índice relativo al lote para obtener el embedding\n",
        "            metadata\n",
        "        ))\n",
        "\n",
        "    # --- C. Subir el Lote a Pinecone ---\n",
        "    try:\n",
        "        index.upsert(vectors=vectors_to_upload)\n",
        "    except Exception as e:\n",
        "        print(f\"Error al subir el lote {i} a {i_end}: {e}\")\n",
        "\n",
        "print(\"\\n✅ Proceso de carga de datos finalizado.\")\n"
      ],
      "execution_count": null,
      "outputs": []
    },
    {
      "cell_type": "markdown",
      "metadata": {
        "id": "66d36eb7"
      },
      "source": [
        "## Verificación de datos en el índice\n",
        "\n",
        "Verifica las estadísticas del índice para asegurarte de que los datos se hayan cargado correctamente."
      ]
    },
    {
      "cell_type": "code",
      "metadata": {
        "id": "122d103c"
      },
      "source": [
        "import time\n",
        "\n",
        "print(\"\\n--- Verificación del Índice ---\")\n",
        "print(index.describe_index_stats())"
      ],
      "execution_count": null,
      "outputs": []
    },
    {
      "cell_type": "markdown",
      "metadata": {
        "id": "a7367271"
      },
      "source": [
        "## Búsqueda semántica\n",
        "\n",
        "Realiza consultas al índice utilizando consultas del estilo \"best tool for repairing walls\" y muestra los resultados obtenidos."
      ]
    },
    {
      "cell_type": "code",
      "metadata": {
        "id": "5450b7a2"
      },
      "source": [
        "# Asumimos que 'model' (SentenceTransformer) e 'index' (Pinecone Index) están definidos.\n",
        "\n",
        "# --- 1. Definición de la Consulta ---\n",
        "query_text = \"best tool for repairing walls\"\n",
        "top_k_results = 5 # Cuántos resultados más similares queremos ver\n",
        "\n",
        "print(f\"Búsqueda Semántica para: '{query_text}'\")\n",
        "print(\"-\" * 50)\n",
        "\n",
        "# --- 2. Generar el Vector de Consulta ---\n",
        "# Usamos el mismo modelo para generar el embedding de la pregunta\n",
        "query_vector = model.encode(query_text).tolist()\n",
        "\n",
        "# --- 3. Consultar a Pinecone ---\n",
        "# Usamos el método index.query()\n",
        "results = index.query(\n",
        "    vector=query_vector,\n",
        "    top_k=top_k_results,\n",
        "    include_metadata=True # Esto es clave para obtener la información original\n",
        ")\n",
        "\n",
        "# --- 4. Mostrar los Resultados ---\n",
        "if results.matches:\n",
        "    print(f\"Se encontraron {len(results.matches)} resultados:\")\n",
        "\n",
        "    # Recorremos cada resultado encontrado por Pinecone\n",
        "    for i, match in enumerate(results.matches):\n",
        "        score = match.score\n",
        "        metadata = match.metadata\n",
        "\n",
        "        print(f\"\\nResultado {i+1} (Score: {score:.4f}):\")\n",
        "        print(f\"  Título: {metadata.get('title', 'N/A')}\")\n",
        "        print(f\"  Precio: {metadata.get('price', 'N/A')} {metadata.get('currency', '')}\")\n",
        "        print(f\"  Descripción: {metadata.get('description', 'N/A')[:100]}...\")\n",
        "        # print(f\"  Texto Completo: {metadata.get('combined_text', 'N/A')}\") # Descomentar si quieres ver el texto combinado\n",
        "else:\n",
        "    print(\"No se encontraron coincidencias en el índice.\")"
      ],
      "execution_count": null,
      "outputs": []
    },
    {
      "cell_type": "markdown",
      "metadata": {
        "id": "ee593c10"
      },
      "source": [
        "# FAISS\n",
        "Realiza una práctica de búsqueda semántica utilizando FAISS y un dataset del sitio web https://www.kaggle.com/datasets."
      ]
    },
    {
      "cell_type": "markdown",
      "metadata": {
        "id": "f0ccb00e"
      },
      "source": [
        "## Cargar el nuevo dataset\n",
        "\n",
        "Carga el archivo en un DataFrame de pandas.\n",
        "Ejemplo elegido: https://www.kaggle.com/datasets/ahmeduzaki/global-earthquake-tsunami-risk-assessment-dataset"
      ]
    },
    {
      "cell_type": "code",
      "source": [
        "from google.colab import files\n",
        "uploaded = files.upload()"
      ],
      "metadata": {
        "id": "nXX5MnBQ9_yt"
      },
      "execution_count": null,
      "outputs": []
    },
    {
      "cell_type": "code",
      "metadata": {
        "id": "dee6bb31"
      },
      "source": [
        "import pandas as pd\n",
        "\n",
        "df = pd.read_csv('earthquake_data_tsunami.csv')\n",
        "display(df.head())"
      ],
      "execution_count": null,
      "outputs": []
    },
    {
      "cell_type": "markdown",
      "metadata": {
        "id": "a85c7abc"
      },
      "source": [
        "## Preparar los datos para la generación de embeddings\n",
        "\n",
        "Selecciona las columnas de texto relevantes del nuevo DataFrame que serán utilizadas para generar los embeddings. Combina las columnas necesarias en un solo campo de texto.\n"
      ]
    },
    {
      "cell_type": "code",
      "metadata": {
        "id": "e8abf286"
      },
      "source": [
        "# Preparar un único campo de texto por fila (sin depender de locales del sistema)\n",
        "import pandas as pd\n",
        "import numpy as np\n",
        "\n",
        "# Asegurar tipos numéricos\n",
        "cols = ['magnitude','cdi','mmi','sig','nst','dmin','gap','depth',\n",
        "        'latitude','longitude','Year','Month','tsunami']\n",
        "df[cols] = df[cols].apply(pd.to_numeric, errors='coerce')\n",
        "\n",
        "# Diccionarios auxiliares\n",
        "tsunami_map = {1: 'sí', 0: 'no'}\n",
        "mes_es = {1:'enero',2:'febrero',3:'marzo',4:'abril',5:'mayo',6:'junio',\n",
        "          7:'julio',8:'agosto',9:'septiembre',10:'octubre',11:'noviembre',12:'diciembre'}\n",
        "\n",
        "# Nombre de mes sin usar locale (evita errores en Colab)\n",
        "df['mes_nombre'] = df['Month'].round().astype('Int64').map(mes_es).fillna('desconocido')\n",
        "\n",
        "# Construir el texto por fila, robusto a NaNs\n",
        "def fila_a_texto(r):\n",
        "    fmt = lambda v, ndec=0: (f\"{v:.{ndec}f}\" if pd.notna(v) else \"NA\")\n",
        "    entero = lambda v: (str(int(v)) if pd.notna(v) else \"NA\")\n",
        "    return (\n",
        "        f\"Terremoto de magnitud {fmt(r.magnitude,1)} \"\n",
        "        f\"(MMI {entero(r.mmi)}, señal {entero(r.sig)}). \"\n",
        "        f\"Profundidad {fmt(r.depth,0)} km. \"\n",
        "        f\"Ubicación lat {fmt(r.latitude,4)}, lon {fmt(r.longitude,3)}. \"\n",
        "        f\"Fecha {entero(r.Year)}-{entero(r.Month)} ({r.mes_nombre}). \"\n",
        "        f\"Estaciones {entero(r.nst)}, gap {fmt(r.gap,1)}, dmin {fmt(r.dmin,3)}. \"\n",
        "        f\"Tsunami: {tsunami_map.get(int(r.tsunami) if pd.notna(r.tsunami) else -1, 'desconocido')}.\"\n",
        "    )\n",
        "\n",
        "df['text_for_embedding'] = df.apply(fila_a_texto, axis=1)\n",
        "\n",
        "# DataFrame listo para embeddings\n",
        "df_embeddings = df[['text_for_embedding']].copy()\n",
        "display(df_embeddings.head())\n"
      ],
      "execution_count": null,
      "outputs": []
    },
    {
      "cell_type": "markdown",
      "metadata": {
        "id": "bc4b952c"
      },
      "source": [
        "## Generar embeddings\n",
        "\n",
        "Aplica la función para generar los embeddings para el texto preparado en el paso anterior.\n"
      ]
    },
    {
      "cell_type": "code",
      "metadata": {
        "id": "bae5f85c"
      },
      "source": [
        "from sentence_transformers import SentenceTransformer\n",
        "import numpy as np\n",
        "\n",
        "# Cargar modelo de embeddings (compacto y rápido)\n",
        "model = SentenceTransformer('all-MiniLM-L6-v2')\n",
        "\n",
        "# Convertir la columna de texto a lista\n",
        "texts = df['text_for_embedding'].astype(str).tolist()\n",
        "\n",
        "# Generar embeddings normalizados (para usar luego similitud coseno con FAISS)\n",
        "embeddings = model.encode(\n",
        "    texts,\n",
        "    batch_size=64,\n",
        "    show_progress_bar=True,\n",
        "    convert_to_numpy=True,\n",
        "    normalize_embeddings=True\n",
        ").astype('float32')\n",
        "\n",
        "# Mostrar forma del array resultante\n",
        "print(\"Embeddings generados con forma:\", embeddings.shape)"
      ],
      "execution_count": null,
      "outputs": []
    },
    {
      "cell_type": "markdown",
      "metadata": {
        "id": "7d61f9fd"
      },
      "source": [
        "## Crear un índice FAISS\n",
        "\n",
        "Inicializa un índice FAISS con la dimensión correcta para los embeddings generados."
      ]
    },
    {
      "cell_type": "code",
      "source": [
        "!pip install faiss-cpu"
      ],
      "metadata": {
        "id": "gLvxMa5JLbmI"
      },
      "execution_count": null,
      "outputs": []
    },
    {
      "cell_type": "code",
      "metadata": {
        "id": "2928a618"
      },
      "source": [
        "import faiss\n",
        "import numpy as np\n",
        "\n",
        "# Obtener la dimensión de los embeddings generados\n",
        "dimension = embeddings.shape[1]\n",
        "print(f\"Dimensión de los embeddings: {dimension}\")\n",
        "\n",
        "# Crear el índice FAISS (IndexFlatIP para similitud coseno)\n",
        "index = faiss.IndexFlatIP(dimension)\n",
        "\n",
        "print(\"Índice FAISS creado correctamente.\")"
      ],
      "execution_count": null,
      "outputs": []
    },
    {
      "cell_type": "markdown",
      "metadata": {
        "id": "5ecd241a"
      },
      "source": [
        "## Agregar embeddings al índice FAISS\n",
        "\n",
        "Agrega los embeddings generados al índice FAISS."
      ]
    },
    {
      "cell_type": "code",
      "metadata": {
        "id": "d9e8e7d9"
      },
      "source": [
        "# Agregar los embeddings generados al índice FAISS\n",
        "index.add(embeddings)\n",
        "\n",
        "# Verificar cuántos vectores contiene el índice\n",
        "print(f\"Embeddings agregados al índice. Total de vectores: {index.ntotal}\")"
      ],
      "execution_count": null,
      "outputs": []
    },
    {
      "cell_type": "markdown",
      "metadata": {
        "id": "b26b8939"
      },
      "source": [
        "## Realizar búsquedas semánticas en FAISS\n",
        "\n",
        "Realiza consultas al índice FAISS utilizando consultas de texto y muestra los resultados obtenidos."
      ]
    },
    {
      "cell_type": "code",
      "metadata": {
        "id": "d91983a2"
      },
      "source": [
        "# Realizar búsquedas semánticas en FAISS usando consultas de texto\n",
        "\n",
        "import numpy as np\n",
        "import pandas as pd\n",
        "\n",
        "# 2) Función para buscar en el índice FAISS\n",
        "def buscar_faiss(query_text, k=5):\n",
        "    \"\"\"\n",
        "    Genera el embedding de la consulta y busca los k más similares en el índice FAISS.\n",
        "    Retorna un DataFrame con resultados y los puntajes de similitud.\n",
        "    \"\"\"\n",
        "    # Generar embedding normalizado de la consulta (para similitud coseno con IndexFlatIP)\n",
        "    q_vec = model.encode([query_text], normalize_embeddings=True, convert_to_numpy=True).astype('float32')\n",
        "\n",
        "    # Consultar FAISS\n",
        "    scores, idxs = index.search(q_vec, k)  # scores = producto interno (≈ coseno)\n",
        "    idxs = idxs[0]\n",
        "    scores = scores[0]\n",
        "\n",
        "    # Armar tabla de resultados (join con df original)\n",
        "    res = df.iloc[idxs].copy()\n",
        "    res = res.assign(\n",
        "        rank=np.arange(1, len(idxs)+1),\n",
        "        score=np.round(scores, 4)\n",
        "    )[['rank','score','text_for_embedding','magnitude','Year','Month','latitude','longitude']]\n",
        "    res = res.rename(columns={'text_for_embedding':'texto'})\n",
        "    return res\n",
        "\n",
        "# 3) Ejemplos de consulta (puedes cambiar 'consulta' y 'k' a gusto)\n",
        "consulta = \"terremoto de magnitud 7 con tsunami\"\n",
        "resultados = buscar_faiss(consulta, k=5)\n",
        "\n",
        "# 4) Mostrar resultados\n",
        "print(f\"Consulta: {consulta}\\n\")\n",
        "display(resultados)\n"
      ],
      "execution_count": null,
      "outputs": []
    }
  ]
}
